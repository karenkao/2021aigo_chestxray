{
 "cells": [
  {
   "cell_type": "code",
   "execution_count": null,
   "metadata": {},
   "outputs": [],
   "source": [
    "import cv2\n",
    "import json\n",
    "import base64\n",
    "import requests\n",
    "import numpy as np\n",
    "import pandas as pd\n",
    "import matplotlib.pyplot as plt\n",
    "from inference import base64_encode, base64_decode\n",
    "# read img as rgb\n",
    "test_img = cv2.imread(\"../aigo_dataset/Pneumo/Pneumothorax/images/image00470796.png\")[:,:,::-1]\n",
    "# encode to base64 string\n",
    "img_b64 = base64_encode(test_img)\n",
    "img_str = img_b64.decode('utf-8')\n",
    "# post api\n",
    "url = 'http://127.0.0.1:8080/predict'\n",
    "data = {'img_str':img_str}\n",
    "response = requests.post(url, json=json.dumps(data))\n",
    "# parse response\n",
    "result = json.loads(response.json())\n",
    "tube_pred =  result['tube']['pred']\n",
    "tube_cam = base64_decode(result['tube']['mask'])\n",
    "# show result\n",
    "plt.imshow(tube_cam)\n",
    "plt.title(f\"tube pred: {tube_pred}\")\n",
    "plt.show()\n",
    "pneumo_pred = result['pneumo']['pred']\n",
    "pneumo_cam = base64_decode(result['pneumo']['mask'])\n",
    "plt.imshow(pneumo_cam)\n",
    "plt.title(f\"pneumo pred: {pneumo_pred}\")\n",
    "plt.show()"
   ]
  }
 ],
 "metadata": {
  "kernelspec": {
   "display_name": "Python 3",
   "language": "python",
   "name": "python3"
  },
  "language_info": {
   "codemirror_mode": {
    "name": "ipython",
    "version": 3
   },
   "file_extension": ".py",
   "mimetype": "text/x-python",
   "name": "python",
   "nbconvert_exporter": "python",
   "pygments_lexer": "ipython3",
   "version": "3.6.9"
  }
 },
 "nbformat": 4,
 "nbformat_minor": 2
}
